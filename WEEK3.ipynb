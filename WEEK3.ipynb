{
  "nbformat": 4,
  "nbformat_minor": 0,
  "metadata": {
    "colab": {
      "provenance": []
    },
    "kernelspec": {
      "name": "python3",
      "display_name": "Python 3"
    },
    "language_info": {
      "name": "python"
    }
  },
  "cells": [
    {
      "cell_type": "code",
      "execution_count": 40,
      "metadata": {
        "id": "kOFBUI5rsVQ4"
      },
      "outputs": [],
      "source": [
        "import pandas as pd\n",
        "import numpy as np\n",
        "import matplotlib.pyplot as plt\n",
        "import seaborn as sb\n",
        "from google.colab import drive"
      ]
    },
    {
      "cell_type": "code",
      "source": [
        "import pandas as pd\n",
        "\n",
        "dataset=pd.read_csv('/content/data-10',sep='\\t')"
      ],
      "metadata": {
        "id": "3jS5FrOntW__"
      },
      "execution_count": 41,
      "outputs": []
    },
    {
      "cell_type": "code",
      "source": [
        "dataset.head()"
      ],
      "metadata": {
        "colab": {
          "base_uri": "https://localhost:8080/",
          "height": 206
        },
        "id": "h0HYEGZOtcPL",
        "outputId": "0d97f254-595e-4813-88ff-b110f50d91c5"
      },
      "execution_count": 42,
      "outputs": [
        {
          "output_type": "execute_result",
          "data": {
            "text/plain": [
              "         DATE   TIME  CODE  VALUE\n",
              "0  02-18-1989  08:00    58  161.0\n",
              "1  02-18-1989  08:00    33    2.0\n",
              "2  02-18-1989  08:00    34    8.0\n",
              "3  02-18-1989  12:00    60   72.0\n",
              "4  02-18-1989  18:00    62  270.0"
            ],
            "text/html": [
              "\n",
              "  <div id=\"df-62028624-91b9-4782-a359-5e6f0401bbac\">\n",
              "    <div class=\"colab-df-container\">\n",
              "      <div>\n",
              "<style scoped>\n",
              "    .dataframe tbody tr th:only-of-type {\n",
              "        vertical-align: middle;\n",
              "    }\n",
              "\n",
              "    .dataframe tbody tr th {\n",
              "        vertical-align: top;\n",
              "    }\n",
              "\n",
              "    .dataframe thead th {\n",
              "        text-align: right;\n",
              "    }\n",
              "</style>\n",
              "<table border=\"1\" class=\"dataframe\">\n",
              "  <thead>\n",
              "    <tr style=\"text-align: right;\">\n",
              "      <th></th>\n",
              "      <th>DATE</th>\n",
              "      <th>TIME</th>\n",
              "      <th>CODE</th>\n",
              "      <th>VALUE</th>\n",
              "    </tr>\n",
              "  </thead>\n",
              "  <tbody>\n",
              "    <tr>\n",
              "      <th>0</th>\n",
              "      <td>02-18-1989</td>\n",
              "      <td>08:00</td>\n",
              "      <td>58</td>\n",
              "      <td>161.0</td>\n",
              "    </tr>\n",
              "    <tr>\n",
              "      <th>1</th>\n",
              "      <td>02-18-1989</td>\n",
              "      <td>08:00</td>\n",
              "      <td>33</td>\n",
              "      <td>2.0</td>\n",
              "    </tr>\n",
              "    <tr>\n",
              "      <th>2</th>\n",
              "      <td>02-18-1989</td>\n",
              "      <td>08:00</td>\n",
              "      <td>34</td>\n",
              "      <td>8.0</td>\n",
              "    </tr>\n",
              "    <tr>\n",
              "      <th>3</th>\n",
              "      <td>02-18-1989</td>\n",
              "      <td>12:00</td>\n",
              "      <td>60</td>\n",
              "      <td>72.0</td>\n",
              "    </tr>\n",
              "    <tr>\n",
              "      <th>4</th>\n",
              "      <td>02-18-1989</td>\n",
              "      <td>18:00</td>\n",
              "      <td>62</td>\n",
              "      <td>270.0</td>\n",
              "    </tr>\n",
              "  </tbody>\n",
              "</table>\n",
              "</div>\n",
              "      <button class=\"colab-df-convert\" onclick=\"convertToInteractive('df-62028624-91b9-4782-a359-5e6f0401bbac')\"\n",
              "              title=\"Convert this dataframe to an interactive table.\"\n",
              "              style=\"display:none;\">\n",
              "        \n",
              "  <svg xmlns=\"http://www.w3.org/2000/svg\" height=\"24px\"viewBox=\"0 0 24 24\"\n",
              "       width=\"24px\">\n",
              "    <path d=\"M0 0h24v24H0V0z\" fill=\"none\"/>\n",
              "    <path d=\"M18.56 5.44l.94 2.06.94-2.06 2.06-.94-2.06-.94-.94-2.06-.94 2.06-2.06.94zm-11 1L8.5 8.5l.94-2.06 2.06-.94-2.06-.94L8.5 2.5l-.94 2.06-2.06.94zm10 10l.94 2.06.94-2.06 2.06-.94-2.06-.94-.94-2.06-.94 2.06-2.06.94z\"/><path d=\"M17.41 7.96l-1.37-1.37c-.4-.4-.92-.59-1.43-.59-.52 0-1.04.2-1.43.59L10.3 9.45l-7.72 7.72c-.78.78-.78 2.05 0 2.83L4 21.41c.39.39.9.59 1.41.59.51 0 1.02-.2 1.41-.59l7.78-7.78 2.81-2.81c.8-.78.8-2.07 0-2.86zM5.41 20L4 18.59l7.72-7.72 1.47 1.35L5.41 20z\"/>\n",
              "  </svg>\n",
              "      </button>\n",
              "      \n",
              "  <style>\n",
              "    .colab-df-container {\n",
              "      display:flex;\n",
              "      flex-wrap:wrap;\n",
              "      gap: 12px;\n",
              "    }\n",
              "\n",
              "    .colab-df-convert {\n",
              "      background-color: #E8F0FE;\n",
              "      border: none;\n",
              "      border-radius: 50%;\n",
              "      cursor: pointer;\n",
              "      display: none;\n",
              "      fill: #1967D2;\n",
              "      height: 32px;\n",
              "      padding: 0 0 0 0;\n",
              "      width: 32px;\n",
              "    }\n",
              "\n",
              "    .colab-df-convert:hover {\n",
              "      background-color: #E2EBFA;\n",
              "      box-shadow: 0px 1px 2px rgba(60, 64, 67, 0.3), 0px 1px 3px 1px rgba(60, 64, 67, 0.15);\n",
              "      fill: #174EA6;\n",
              "    }\n",
              "\n",
              "    [theme=dark] .colab-df-convert {\n",
              "      background-color: #3B4455;\n",
              "      fill: #D2E3FC;\n",
              "    }\n",
              "\n",
              "    [theme=dark] .colab-df-convert:hover {\n",
              "      background-color: #434B5C;\n",
              "      box-shadow: 0px 1px 3px 1px rgba(0, 0, 0, 0.15);\n",
              "      filter: drop-shadow(0px 1px 2px rgba(0, 0, 0, 0.3));\n",
              "      fill: #FFFFFF;\n",
              "    }\n",
              "  </style>\n",
              "\n",
              "      <script>\n",
              "        const buttonEl =\n",
              "          document.querySelector('#df-62028624-91b9-4782-a359-5e6f0401bbac button.colab-df-convert');\n",
              "        buttonEl.style.display =\n",
              "          google.colab.kernel.accessAllowed ? 'block' : 'none';\n",
              "\n",
              "        async function convertToInteractive(key) {\n",
              "          const element = document.querySelector('#df-62028624-91b9-4782-a359-5e6f0401bbac');\n",
              "          const dataTable =\n",
              "            await google.colab.kernel.invokeFunction('convertToInteractive',\n",
              "                                                     [key], {});\n",
              "          if (!dataTable) return;\n",
              "\n",
              "          const docLinkHtml = 'Like what you see? Visit the ' +\n",
              "            '<a target=\"_blank\" href=https://colab.research.google.com/notebooks/data_table.ipynb>data table notebook</a>'\n",
              "            + ' to learn more about interactive tables.';\n",
              "          element.innerHTML = '';\n",
              "          dataTable['output_type'] = 'display_data';\n",
              "          await google.colab.output.renderOutput(dataTable, element);\n",
              "          const docLink = document.createElement('div');\n",
              "          docLink.innerHTML = docLinkHtml;\n",
              "          element.appendChild(docLink);\n",
              "        }\n",
              "      </script>\n",
              "    </div>\n",
              "  </div>\n",
              "  "
            ]
          },
          "metadata": {},
          "execution_count": 42
        }
      ]
    },
    {
      "cell_type": "code",
      "source": [
        "df= (\n",
        "    dataset.pivot_table(index=dataset.groupby('CODE').cumcount(),\n",
        "                   columns='CODE',\n",
        "                   values='VALUE')\n",
        "        .add_prefix('')\n",
        "        .rename_axis(columns=None)\n",
        ")"
      ],
      "metadata": {
        "id": "62do52WetgoT"
      },
      "execution_count": 43,
      "outputs": []
    },
    {
      "cell_type": "code",
      "source": [
        "df.head()"
      ],
      "metadata": {
        "colab": {
          "base_uri": "https://localhost:8080/",
          "height": 206
        },
        "id": "hYMoRWjxuQMA",
        "outputId": "20b5f533-c56d-43d6-95f4-d1cbb0b40ef2"
      },
      "execution_count": 44,
      "outputs": [
        {
          "output_type": "execute_result",
          "data": {
            "text/plain": [
              "    33   34     48     58     60     62\n",
              "0  2.0  8.0  238.0  161.0   72.0  270.0\n",
              "1  2.0  8.0  105.0  147.0  176.0  197.0\n",
              "2  2.0  5.0  123.0  245.0  294.0  265.0\n",
              "3  3.0  8.0  119.0  302.0   73.0  168.0\n",
              "4  3.0  5.0  100.0  161.0  147.0  216.0"
            ],
            "text/html": [
              "\n",
              "  <div id=\"df-d6681c2e-090f-4943-b015-f4ce7f0f60e7\">\n",
              "    <div class=\"colab-df-container\">\n",
              "      <div>\n",
              "<style scoped>\n",
              "    .dataframe tbody tr th:only-of-type {\n",
              "        vertical-align: middle;\n",
              "    }\n",
              "\n",
              "    .dataframe tbody tr th {\n",
              "        vertical-align: top;\n",
              "    }\n",
              "\n",
              "    .dataframe thead th {\n",
              "        text-align: right;\n",
              "    }\n",
              "</style>\n",
              "<table border=\"1\" class=\"dataframe\">\n",
              "  <thead>\n",
              "    <tr style=\"text-align: right;\">\n",
              "      <th></th>\n",
              "      <th>33</th>\n",
              "      <th>34</th>\n",
              "      <th>48</th>\n",
              "      <th>58</th>\n",
              "      <th>60</th>\n",
              "      <th>62</th>\n",
              "    </tr>\n",
              "  </thead>\n",
              "  <tbody>\n",
              "    <tr>\n",
              "      <th>0</th>\n",
              "      <td>2.0</td>\n",
              "      <td>8.0</td>\n",
              "      <td>238.0</td>\n",
              "      <td>161.0</td>\n",
              "      <td>72.0</td>\n",
              "      <td>270.0</td>\n",
              "    </tr>\n",
              "    <tr>\n",
              "      <th>1</th>\n",
              "      <td>2.0</td>\n",
              "      <td>8.0</td>\n",
              "      <td>105.0</td>\n",
              "      <td>147.0</td>\n",
              "      <td>176.0</td>\n",
              "      <td>197.0</td>\n",
              "    </tr>\n",
              "    <tr>\n",
              "      <th>2</th>\n",
              "      <td>2.0</td>\n",
              "      <td>5.0</td>\n",
              "      <td>123.0</td>\n",
              "      <td>245.0</td>\n",
              "      <td>294.0</td>\n",
              "      <td>265.0</td>\n",
              "    </tr>\n",
              "    <tr>\n",
              "      <th>3</th>\n",
              "      <td>3.0</td>\n",
              "      <td>8.0</td>\n",
              "      <td>119.0</td>\n",
              "      <td>302.0</td>\n",
              "      <td>73.0</td>\n",
              "      <td>168.0</td>\n",
              "    </tr>\n",
              "    <tr>\n",
              "      <th>4</th>\n",
              "      <td>3.0</td>\n",
              "      <td>5.0</td>\n",
              "      <td>100.0</td>\n",
              "      <td>161.0</td>\n",
              "      <td>147.0</td>\n",
              "      <td>216.0</td>\n",
              "    </tr>\n",
              "  </tbody>\n",
              "</table>\n",
              "</div>\n",
              "      <button class=\"colab-df-convert\" onclick=\"convertToInteractive('df-d6681c2e-090f-4943-b015-f4ce7f0f60e7')\"\n",
              "              title=\"Convert this dataframe to an interactive table.\"\n",
              "              style=\"display:none;\">\n",
              "        \n",
              "  <svg xmlns=\"http://www.w3.org/2000/svg\" height=\"24px\"viewBox=\"0 0 24 24\"\n",
              "       width=\"24px\">\n",
              "    <path d=\"M0 0h24v24H0V0z\" fill=\"none\"/>\n",
              "    <path d=\"M18.56 5.44l.94 2.06.94-2.06 2.06-.94-2.06-.94-.94-2.06-.94 2.06-2.06.94zm-11 1L8.5 8.5l.94-2.06 2.06-.94-2.06-.94L8.5 2.5l-.94 2.06-2.06.94zm10 10l.94 2.06.94-2.06 2.06-.94-2.06-.94-.94-2.06-.94 2.06-2.06.94z\"/><path d=\"M17.41 7.96l-1.37-1.37c-.4-.4-.92-.59-1.43-.59-.52 0-1.04.2-1.43.59L10.3 9.45l-7.72 7.72c-.78.78-.78 2.05 0 2.83L4 21.41c.39.39.9.59 1.41.59.51 0 1.02-.2 1.41-.59l7.78-7.78 2.81-2.81c.8-.78.8-2.07 0-2.86zM5.41 20L4 18.59l7.72-7.72 1.47 1.35L5.41 20z\"/>\n",
              "  </svg>\n",
              "      </button>\n",
              "      \n",
              "  <style>\n",
              "    .colab-df-container {\n",
              "      display:flex;\n",
              "      flex-wrap:wrap;\n",
              "      gap: 12px;\n",
              "    }\n",
              "\n",
              "    .colab-df-convert {\n",
              "      background-color: #E8F0FE;\n",
              "      border: none;\n",
              "      border-radius: 50%;\n",
              "      cursor: pointer;\n",
              "      display: none;\n",
              "      fill: #1967D2;\n",
              "      height: 32px;\n",
              "      padding: 0 0 0 0;\n",
              "      width: 32px;\n",
              "    }\n",
              "\n",
              "    .colab-df-convert:hover {\n",
              "      background-color: #E2EBFA;\n",
              "      box-shadow: 0px 1px 2px rgba(60, 64, 67, 0.3), 0px 1px 3px 1px rgba(60, 64, 67, 0.15);\n",
              "      fill: #174EA6;\n",
              "    }\n",
              "\n",
              "    [theme=dark] .colab-df-convert {\n",
              "      background-color: #3B4455;\n",
              "      fill: #D2E3FC;\n",
              "    }\n",
              "\n",
              "    [theme=dark] .colab-df-convert:hover {\n",
              "      background-color: #434B5C;\n",
              "      box-shadow: 0px 1px 3px 1px rgba(0, 0, 0, 0.15);\n",
              "      filter: drop-shadow(0px 1px 2px rgba(0, 0, 0, 0.3));\n",
              "      fill: #FFFFFF;\n",
              "    }\n",
              "  </style>\n",
              "\n",
              "      <script>\n",
              "        const buttonEl =\n",
              "          document.querySelector('#df-d6681c2e-090f-4943-b015-f4ce7f0f60e7 button.colab-df-convert');\n",
              "        buttonEl.style.display =\n",
              "          google.colab.kernel.accessAllowed ? 'block' : 'none';\n",
              "\n",
              "        async function convertToInteractive(key) {\n",
              "          const element = document.querySelector('#df-d6681c2e-090f-4943-b015-f4ce7f0f60e7');\n",
              "          const dataTable =\n",
              "            await google.colab.kernel.invokeFunction('convertToInteractive',\n",
              "                                                     [key], {});\n",
              "          if (!dataTable) return;\n",
              "\n",
              "          const docLinkHtml = 'Like what you see? Visit the ' +\n",
              "            '<a target=\"_blank\" href=https://colab.research.google.com/notebooks/data_table.ipynb>data table notebook</a>'\n",
              "            + ' to learn more about interactive tables.';\n",
              "          element.innerHTML = '';\n",
              "          dataTable['output_type'] = 'display_data';\n",
              "          await google.colab.output.renderOutput(dataTable, element);\n",
              "          const docLink = document.createElement('div');\n",
              "          docLink.innerHTML = docLinkHtml;\n",
              "          element.appendChild(docLink);\n",
              "        }\n",
              "      </script>\n",
              "    </div>\n",
              "  </div>\n",
              "  "
            ]
          },
          "metadata": {},
          "execution_count": 44
        }
      ]
    },
    {
      "cell_type": "code",
      "source": [
        "df=df[:15]"
      ],
      "metadata": {
        "id": "4xPV9F2yuTRg"
      },
      "execution_count": 86,
      "outputs": []
    },
    {
      "cell_type": "code",
      "source": [
        "df = df.rename(columns={'33': 'Regular insulin dose','34': 'NPH insulin dose','48': 'Unspecified blood glucose measurement','58': 'Pre-breakfast blood glucose measurement','60': 'Pre-lunch blood glucose measurement','62': 'Pre-supper blood glucose measurement' })"
      ],
      "metadata": {
        "id": "MOrW1gXpuWEo"
      },
      "execution_count": 87,
      "outputs": []
    },
    {
      "cell_type": "code",
      "source": [
        "df.head()"
      ],
      "metadata": {
        "colab": {
          "base_uri": "https://localhost:8080/",
          "height": 268
        },
        "id": "ZeAxvGbsvr4e",
        "outputId": "d2ab1eee-b493-4f5c-f84d-e6b4a00b5125"
      },
      "execution_count": 88,
      "outputs": [
        {
          "output_type": "execute_result",
          "data": {
            "text/plain": [
              "   Regular insulin dose  NPH insulin dose  \\\n",
              "0                   2.0               8.0   \n",
              "1                   2.0               8.0   \n",
              "2                   2.0               5.0   \n",
              "3                   3.0               8.0   \n",
              "4                   3.0               5.0   \n",
              "\n",
              "   Unspecified blood glucose measurement  \\\n",
              "0                                  238.0   \n",
              "1                                  105.0   \n",
              "2                                  123.0   \n",
              "3                                  119.0   \n",
              "4                                  100.0   \n",
              "\n",
              "   Pre-breakfast blood glucose measurement  \\\n",
              "0                                    161.0   \n",
              "1                                    147.0   \n",
              "2                                    245.0   \n",
              "3                                    302.0   \n",
              "4                                    161.0   \n",
              "\n",
              "   Pre-lunch blood glucose measurement  Pre-supper blood glucose measurement  \n",
              "0                                 72.0                                 270.0  \n",
              "1                                176.0                                 197.0  \n",
              "2                                294.0                                 265.0  \n",
              "3                                 73.0                                 168.0  \n",
              "4                                147.0                                 216.0  "
            ],
            "text/html": [
              "\n",
              "  <div id=\"df-b43b76aa-f67c-405b-b8da-a40dbaf48440\">\n",
              "    <div class=\"colab-df-container\">\n",
              "      <div>\n",
              "<style scoped>\n",
              "    .dataframe tbody tr th:only-of-type {\n",
              "        vertical-align: middle;\n",
              "    }\n",
              "\n",
              "    .dataframe tbody tr th {\n",
              "        vertical-align: top;\n",
              "    }\n",
              "\n",
              "    .dataframe thead th {\n",
              "        text-align: right;\n",
              "    }\n",
              "</style>\n",
              "<table border=\"1\" class=\"dataframe\">\n",
              "  <thead>\n",
              "    <tr style=\"text-align: right;\">\n",
              "      <th></th>\n",
              "      <th>Regular insulin dose</th>\n",
              "      <th>NPH insulin dose</th>\n",
              "      <th>Unspecified blood glucose measurement</th>\n",
              "      <th>Pre-breakfast blood glucose measurement</th>\n",
              "      <th>Pre-lunch blood glucose measurement</th>\n",
              "      <th>Pre-supper blood glucose measurement</th>\n",
              "    </tr>\n",
              "  </thead>\n",
              "  <tbody>\n",
              "    <tr>\n",
              "      <th>0</th>\n",
              "      <td>2.0</td>\n",
              "      <td>8.0</td>\n",
              "      <td>238.0</td>\n",
              "      <td>161.0</td>\n",
              "      <td>72.0</td>\n",
              "      <td>270.0</td>\n",
              "    </tr>\n",
              "    <tr>\n",
              "      <th>1</th>\n",
              "      <td>2.0</td>\n",
              "      <td>8.0</td>\n",
              "      <td>105.0</td>\n",
              "      <td>147.0</td>\n",
              "      <td>176.0</td>\n",
              "      <td>197.0</td>\n",
              "    </tr>\n",
              "    <tr>\n",
              "      <th>2</th>\n",
              "      <td>2.0</td>\n",
              "      <td>5.0</td>\n",
              "      <td>123.0</td>\n",
              "      <td>245.0</td>\n",
              "      <td>294.0</td>\n",
              "      <td>265.0</td>\n",
              "    </tr>\n",
              "    <tr>\n",
              "      <th>3</th>\n",
              "      <td>3.0</td>\n",
              "      <td>8.0</td>\n",
              "      <td>119.0</td>\n",
              "      <td>302.0</td>\n",
              "      <td>73.0</td>\n",
              "      <td>168.0</td>\n",
              "    </tr>\n",
              "    <tr>\n",
              "      <th>4</th>\n",
              "      <td>3.0</td>\n",
              "      <td>5.0</td>\n",
              "      <td>100.0</td>\n",
              "      <td>161.0</td>\n",
              "      <td>147.0</td>\n",
              "      <td>216.0</td>\n",
              "    </tr>\n",
              "  </tbody>\n",
              "</table>\n",
              "</div>\n",
              "      <button class=\"colab-df-convert\" onclick=\"convertToInteractive('df-b43b76aa-f67c-405b-b8da-a40dbaf48440')\"\n",
              "              title=\"Convert this dataframe to an interactive table.\"\n",
              "              style=\"display:none;\">\n",
              "        \n",
              "  <svg xmlns=\"http://www.w3.org/2000/svg\" height=\"24px\"viewBox=\"0 0 24 24\"\n",
              "       width=\"24px\">\n",
              "    <path d=\"M0 0h24v24H0V0z\" fill=\"none\"/>\n",
              "    <path d=\"M18.56 5.44l.94 2.06.94-2.06 2.06-.94-2.06-.94-.94-2.06-.94 2.06-2.06.94zm-11 1L8.5 8.5l.94-2.06 2.06-.94-2.06-.94L8.5 2.5l-.94 2.06-2.06.94zm10 10l.94 2.06.94-2.06 2.06-.94-2.06-.94-.94-2.06-.94 2.06-2.06.94z\"/><path d=\"M17.41 7.96l-1.37-1.37c-.4-.4-.92-.59-1.43-.59-.52 0-1.04.2-1.43.59L10.3 9.45l-7.72 7.72c-.78.78-.78 2.05 0 2.83L4 21.41c.39.39.9.59 1.41.59.51 0 1.02-.2 1.41-.59l7.78-7.78 2.81-2.81c.8-.78.8-2.07 0-2.86zM5.41 20L4 18.59l7.72-7.72 1.47 1.35L5.41 20z\"/>\n",
              "  </svg>\n",
              "      </button>\n",
              "      \n",
              "  <style>\n",
              "    .colab-df-container {\n",
              "      display:flex;\n",
              "      flex-wrap:wrap;\n",
              "      gap: 12px;\n",
              "    }\n",
              "\n",
              "    .colab-df-convert {\n",
              "      background-color: #E8F0FE;\n",
              "      border: none;\n",
              "      border-radius: 50%;\n",
              "      cursor: pointer;\n",
              "      display: none;\n",
              "      fill: #1967D2;\n",
              "      height: 32px;\n",
              "      padding: 0 0 0 0;\n",
              "      width: 32px;\n",
              "    }\n",
              "\n",
              "    .colab-df-convert:hover {\n",
              "      background-color: #E2EBFA;\n",
              "      box-shadow: 0px 1px 2px rgba(60, 64, 67, 0.3), 0px 1px 3px 1px rgba(60, 64, 67, 0.15);\n",
              "      fill: #174EA6;\n",
              "    }\n",
              "\n",
              "    [theme=dark] .colab-df-convert {\n",
              "      background-color: #3B4455;\n",
              "      fill: #D2E3FC;\n",
              "    }\n",
              "\n",
              "    [theme=dark] .colab-df-convert:hover {\n",
              "      background-color: #434B5C;\n",
              "      box-shadow: 0px 1px 3px 1px rgba(0, 0, 0, 0.15);\n",
              "      filter: drop-shadow(0px 1px 2px rgba(0, 0, 0, 0.3));\n",
              "      fill: #FFFFFF;\n",
              "    }\n",
              "  </style>\n",
              "\n",
              "      <script>\n",
              "        const buttonEl =\n",
              "          document.querySelector('#df-b43b76aa-f67c-405b-b8da-a40dbaf48440 button.colab-df-convert');\n",
              "        buttonEl.style.display =\n",
              "          google.colab.kernel.accessAllowed ? 'block' : 'none';\n",
              "\n",
              "        async function convertToInteractive(key) {\n",
              "          const element = document.querySelector('#df-b43b76aa-f67c-405b-b8da-a40dbaf48440');\n",
              "          const dataTable =\n",
              "            await google.colab.kernel.invokeFunction('convertToInteractive',\n",
              "                                                     [key], {});\n",
              "          if (!dataTable) return;\n",
              "\n",
              "          const docLinkHtml = 'Like what you see? Visit the ' +\n",
              "            '<a target=\"_blank\" href=https://colab.research.google.com/notebooks/data_table.ipynb>data table notebook</a>'\n",
              "            + ' to learn more about interactive tables.';\n",
              "          element.innerHTML = '';\n",
              "          dataTable['output_type'] = 'display_data';\n",
              "          await google.colab.output.renderOutput(dataTable, element);\n",
              "          const docLink = document.createElement('div');\n",
              "          docLink.innerHTML = docLinkHtml;\n",
              "          element.appendChild(docLink);\n",
              "        }\n",
              "      </script>\n",
              "    </div>\n",
              "  </div>\n",
              "  "
            ]
          },
          "metadata": {},
          "execution_count": 88
        }
      ]
    },
    {
      "cell_type": "code",
      "source": [
        "df.mean()"
      ],
      "metadata": {
        "colab": {
          "base_uri": "https://localhost:8080/"
        },
        "id": "Rc-o6PNavxvK",
        "outputId": "4a55b8d0-ea7f-4a71-a223-6457ccebe69f"
      },
      "execution_count": 89,
      "outputs": [
        {
          "output_type": "execute_result",
          "data": {
            "text/plain": [
              "Regular insulin dose                         2.400000\n",
              "NPH insulin dose                             5.800000\n",
              "Unspecified blood glucose measurement      206.400000\n",
              "Pre-breakfast blood glucose measurement    201.400000\n",
              "Pre-lunch blood glucose measurement        158.333333\n",
              "Pre-supper blood glucose measurement       226.866667\n",
              "dtype: float64"
            ]
          },
          "metadata": {},
          "execution_count": 89
        }
      ]
    },
    {
      "cell_type": "code",
      "source": [
        "df.median()"
      ],
      "metadata": {
        "colab": {
          "base_uri": "https://localhost:8080/"
        },
        "id": "1Iyiy1B7v7CL",
        "outputId": "c11ef956-3ce6-4f42-90ec-2690403af3b8"
      },
      "execution_count": 90,
      "outputs": [
        {
          "output_type": "execute_result",
          "data": {
            "text/plain": [
              "Regular insulin dose                         2.0\n",
              "NPH insulin dose                             7.0\n",
              "Unspecified blood glucose measurement      219.0\n",
              "Pre-breakfast blood glucose measurement    187.0\n",
              "Pre-lunch blood glucose measurement        147.0\n",
              "Pre-supper blood glucose measurement       249.0\n",
              "dtype: float64"
            ]
          },
          "metadata": {},
          "execution_count": 90
        }
      ]
    },
    {
      "cell_type": "code",
      "source": [
        "import statistics\n",
        "from statistics import StatisticsError\n",
        "for col in df:\n",
        "  print(col, end=\"\\t\")\n",
        "  try:\n",
        "    modedata=statistics.mode(df[col])\n",
        "  except StatisticsError:\n",
        "    print (\"No unique mode found\")"
      ],
      "metadata": {
        "colab": {
          "base_uri": "https://localhost:8080/"
        },
        "id": "NZrsHdDAv9fL",
        "outputId": "83ebf24d-6f0e-43be-caed-6eb4f204b6df"
      },
      "execution_count": 91,
      "outputs": [
        {
          "output_type": "stream",
          "name": "stdout",
          "text": [
            "Regular insulin dose\tNPH insulin dose\tUnspecified blood glucose measurement\tNo unique mode found\n",
            "Pre-breakfast blood glucose measurement\tNo unique mode found\n",
            "Pre-lunch blood glucose measurement\tPre-supper blood glucose measurement\tNo unique mode found\n"
          ]
        }
      ]
    },
    {
      "cell_type": "code",
      "source": [
        "sb.boxplot(df['Unspecified blood glucose measurement'])"
      ],
      "metadata": {
        "colab": {
          "base_uri": "https://localhost:8080/",
          "height": 351
        },
        "id": "fmz_vUVmwAx6",
        "outputId": "17139f25-5589-4440-b086-f847b9402d63"
      },
      "execution_count": 92,
      "outputs": [
        {
          "output_type": "stream",
          "name": "stderr",
          "text": [
            "/usr/local/lib/python3.7/dist-packages/seaborn/_decorators.py:43: FutureWarning: Pass the following variable as a keyword arg: x. From version 0.12, the only valid positional argument will be `data`, and passing other arguments without an explicit keyword will result in an error or misinterpretation.\n",
            "  FutureWarning\n"
          ]
        },
        {
          "output_type": "execute_result",
          "data": {
            "text/plain": [
              "<matplotlib.axes._subplots.AxesSubplot at 0x7f81a113df90>"
            ]
          },
          "metadata": {},
          "execution_count": 92
        },
        {
          "output_type": "display_data",
          "data": {
            "text/plain": [
              "<Figure size 432x288 with 1 Axes>"
            ],
            "image/png": "[encoded data removed]"
          },
          "metadata": {
            "needs_background": "light"
          }
        }
      ]
    },
    {
      "cell_type": "code",
      "source": [
        "df.boxplot(column=['Regular insulin dose','NPH insulin dose','Unspecified blood glucose measurement','Pre-breakfast blood glucose measurement','Pre-lunch blood glucose measurement','Pre-supper blood glucose measurement'])"
      ],
      "metadata": {
        "colab": {
          "base_uri": "https://localhost:8080/",
          "height": 282
        },
        "id": "Fkkubd0HwN0U",
        "outputId": "b1e38851-62af-4059-83a4-92ead76487bc"
      },
      "execution_count": 93,
      "outputs": [
        {
          "output_type": "execute_result",
          "data": {
            "text/plain": [
              "<matplotlib.axes._subplots.AxesSubplot at 0x7f81a1112250>"
            ]
          },
          "metadata": {},
          "execution_count": 93
        },
        {
          "output_type": "display_data",
          "data": {
            "text/plain": [
              "<Figure size 432x288 with 1 Axes>"
            ],
            "image/png": "[encoded data removed]"
          },
          "metadata": {
            "needs_background": "light"
          }
        }
      ]
    },
    {
      "cell_type": "code",
      "source": [
        "for col in df:\n",
        "  print(\" \")\n",
        "  data = df[col]\n",
        "  np.sort(data)\n",
        "  q1, q3= np.percentile(data,[25,75])\n",
        "  iqr = q3 - q1\n",
        "  lower_bound = q1 - (1.5 * iqr) \n",
        "  upper_bound = q3 + (1.5 * iqr) \n",
        "  print('=> ',col)\n",
        "  print(\" \")\n",
        "  print(\"Lower bound\",lower_bound)\n",
        "  print(\"upper \",upper_bound)\n",
        "  print(\"Outliers\")\n",
        "  for i in data:\n",
        "    if i < lower_bound or i > upper_bound:\n",
        "      \n",
        "      print(\"     \",i)"
      ],
      "metadata": {
        "colab": {
          "base_uri": "https://localhost:8080/"
        },
        "id": "oNY9PD9owfZs",
        "outputId": "56559939-5b0d-40fe-9137-64840f6e0676"
      },
      "execution_count": 94,
      "outputs": [
        {
          "output_type": "stream",
          "name": "stdout",
          "text": [
            " \n",
            "=>  Regular insulin dose\n",
            " \n",
            "Lower bound 0.5\n",
            "upper  4.5\n",
            "Outliers\n",
            " \n",
            "=>  NPH insulin dose\n",
            " \n",
            "Lower bound -3.25\n",
            "upper  14.75\n",
            "Outliers\n",
            " \n",
            "=>  Unspecified blood glucose measurement\n",
            " \n",
            "Lower bound -84.5\n",
            "upper  463.5\n",
            "Outliers\n",
            " \n",
            "=>  Pre-breakfast blood glucose measurement\n",
            " \n",
            "Lower bound 22.75\n",
            "upper  364.75\n",
            "Outliers\n",
            " \n",
            "=>  Pre-lunch blood glucose measurement\n",
            " \n",
            "Lower bound -87.5\n",
            "upper  388.5\n",
            "Outliers\n",
            " \n",
            "=>  Pre-supper blood glucose measurement\n",
            " \n",
            "Lower bound 53.5\n",
            "upper  397.5\n",
            "Outliers\n"
          ]
        }
      ]
    },
    {
      "cell_type": "code",
      "source": [
        "df.info()"
      ],
      "metadata": {
        "colab": {
          "base_uri": "https://localhost:8080/"
        },
        "id": "I4_sBf6OwgzK",
        "outputId": "3adc3af1-158b-4739-c5e8-229d270c6187"
      },
      "execution_count": 95,
      "outputs": [
        {
          "output_type": "stream",
          "name": "stdout",
          "text": [
            "<class 'pandas.core.frame.DataFrame'>\n",
            "Int64Index: 15 entries, 0 to 14\n",
            "Data columns (total 6 columns):\n",
            " #   Column                                   Non-Null Count  Dtype  \n",
            "---  ------                                   --------------  -----  \n",
            " 0   Regular insulin dose                     15 non-null     float64\n",
            " 1   NPH insulin dose                         15 non-null     float64\n",
            " 2   Unspecified blood glucose measurement    15 non-null     float64\n",
            " 3   Pre-breakfast blood glucose measurement  15 non-null     float64\n",
            " 4   Pre-lunch blood glucose measurement      15 non-null     float64\n",
            " 5   Pre-supper blood glucose measurement     15 non-null     float64\n",
            "dtypes: float64(6)\n",
            "memory usage: 840.0 bytes\n"
          ]
        }
      ]
    },
    {
      "cell_type": "code",
      "source": [
        "sp=df[:15]\n",
        "sp.info()"
      ],
      "metadata": {
        "colab": {
          "base_uri": "https://localhost:8080/"
        },
        "id": "XgI9bxIlwjZS",
        "outputId": "a7a42186-26fb-465d-9c7c-c8619e21cdf0"
      },
      "execution_count": 96,
      "outputs": [
        {
          "output_type": "stream",
          "name": "stdout",
          "text": [
            "<class 'pandas.core.frame.DataFrame'>\n",
            "Int64Index: 15 entries, 0 to 14\n",
            "Data columns (total 6 columns):\n",
            " #   Column                                   Non-Null Count  Dtype  \n",
            "---  ------                                   --------------  -----  \n",
            " 0   Regular insulin dose                     15 non-null     float64\n",
            " 1   NPH insulin dose                         15 non-null     float64\n",
            " 2   Unspecified blood glucose measurement    15 non-null     float64\n",
            " 3   Pre-breakfast blood glucose measurement  15 non-null     float64\n",
            " 4   Pre-lunch blood glucose measurement      15 non-null     float64\n",
            " 5   Pre-supper blood glucose measurement     15 non-null     float64\n",
            "dtypes: float64(6)\n",
            "memory usage: 840.0 bytes\n"
          ]
        }
      ]
    },
    {
      "cell_type": "code",
      "source": [
        "sb.pairplot(sp,kind='scatter')"
      ],
      "metadata": {
        "colab": {
          "base_uri": "https://localhost:8080/",
          "height": 1000
        },
        "id": "a_dnlI24woOf",
        "outputId": "ef85dc50-7533-47dc-bc1a-5deb814df3e0"
      },
      "execution_count": 97,
      "outputs": [
        {
          "output_type": "execute_result",
          "data": {
            "text/plain": [
              "<seaborn.axisgrid.PairGrid at 0x7f81a0fa9410>"
            ]
          },
          "metadata": {},
          "execution_count": 97
        },
        {
          "output_type": "display_data",
          "data": {
            "text/plain": [
              "<Figure size 1080x1080 with 42 Axes>"
            ],
            "image/png": "[encoded data removed]"
          },
          "metadata": {
            "needs_background": "light"
          }
        }
      ]
    },
    {
      "cell_type": "code",
      "source": [
        "sp.corr()"
      ],
      "metadata": {
        "colab": {
          "base_uri": "https://localhost:8080/",
          "height": 368
        },
        "id": "3K4mq4OHwsBQ",
        "outputId": "e5ccb445-5dee-4101-b39b-4f306e68aace"
      },
      "execution_count": 98,
      "outputs": [
        {
          "output_type": "execute_result",
          "data": {
            "text/plain": [
              "                                         Regular insulin dose  \\\n",
              "Regular insulin dose                                 1.000000   \n",
              "NPH insulin dose                                    -0.315244   \n",
              "Unspecified blood glucose measurement               -0.261514   \n",
              "Pre-breakfast blood glucose measurement              0.453617   \n",
              "Pre-lunch blood glucose measurement                 -0.427991   \n",
              "Pre-supper blood glucose measurement                 0.188753   \n",
              "\n",
              "                                         NPH insulin dose  \\\n",
              "Regular insulin dose                            -0.315244   \n",
              "NPH insulin dose                                 1.000000   \n",
              "Unspecified blood glucose measurement           -0.278238   \n",
              "Pre-breakfast blood glucose measurement         -0.211311   \n",
              "Pre-lunch blood glucose measurement              0.007989   \n",
              "Pre-supper blood glucose measurement            -0.258817   \n",
              "\n",
              "                                         Unspecified blood glucose measurement  \\\n",
              "Regular insulin dose                                                 -0.261514   \n",
              "NPH insulin dose                                                     -0.278238   \n",
              "Unspecified blood glucose measurement                                 1.000000   \n",
              "Pre-breakfast blood glucose measurement                              -0.215172   \n",
              "Pre-lunch blood glucose measurement                                   0.102645   \n",
              "Pre-supper blood glucose measurement                                  0.205549   \n",
              "\n",
              "                                         Pre-breakfast blood glucose measurement  \\\n",
              "Regular insulin dose                                                    0.453617   \n",
              "NPH insulin dose                                                       -0.211311   \n",
              "Unspecified blood glucose measurement                                  -0.215172   \n",
              "Pre-breakfast blood glucose measurement                                 1.000000   \n",
              "Pre-lunch blood glucose measurement                                    -0.149203   \n",
              "Pre-supper blood glucose measurement                                    0.005432   \n",
              "\n",
              "                                         Pre-lunch blood glucose measurement  \\\n",
              "Regular insulin dose                                               -0.427991   \n",
              "NPH insulin dose                                                    0.007989   \n",
              "Unspecified blood glucose measurement                               0.102645   \n",
              "Pre-breakfast blood glucose measurement                            -0.149203   \n",
              "Pre-lunch blood glucose measurement                                 1.000000   \n",
              "Pre-supper blood glucose measurement                               -0.306416   \n",
              "\n",
              "                                         Pre-supper blood glucose measurement  \n",
              "Regular insulin dose                                                 0.188753  \n",
              "NPH insulin dose                                                    -0.258817  \n",
              "Unspecified blood glucose measurement                                0.205549  \n",
              "Pre-breakfast blood glucose measurement                              0.005432  \n",
              "Pre-lunch blood glucose measurement                                 -0.306416  \n",
              "Pre-supper blood glucose measurement                                 1.000000  "
            ],
            "text/html": [
              "\n",
              "  <div id=\"df-f903d1a3-a224-470f-a33a-81fa54a507e9\">\n",
              "    <div class=\"colab-df-container\">\n",
              "      <div>\n",
              "<style scoped>\n",
              "    .dataframe tbody tr th:only-of-type {\n",
              "        vertical-align: middle;\n",
              "    }\n",
              "\n",
              "    .dataframe tbody tr th {\n",
              "        vertical-align: top;\n",
              "    }\n",
              "\n",
              "    .dataframe thead th {\n",
              "        text-align: right;\n",
              "    }\n",
              "</style>\n",
              "<table border=\"1\" class=\"dataframe\">\n",
              "  <thead>\n",
              "    <tr style=\"text-align: right;\">\n",
              "      <th></th>\n",
              "      <th>Regular insulin dose</th>\n",
              "      <th>NPH insulin dose</th>\n",
              "      <th>Unspecified blood glucose measurement</th>\n",
              "      <th>Pre-breakfast blood glucose measurement</th>\n",
              "      <th>Pre-lunch blood glucose measurement</th>\n",
              "      <th>Pre-supper blood glucose measurement</th>\n",
              "    </tr>\n",
              "  </thead>\n",
              "  <tbody>\n",
              "    <tr>\n",
              "      <th>Regular insulin dose</th>\n",
              "      <td>1.000000</td>\n",
              "      <td>-0.315244</td>\n",
              "      <td>-0.261514</td>\n",
              "      <td>0.453617</td>\n",
              "      <td>-0.427991</td>\n",
              "      <td>0.188753</td>\n",
              "    </tr>\n",
              "    <tr>\n",
              "      <th>NPH insulin dose</th>\n",
              "      <td>-0.315244</td>\n",
              "      <td>1.000000</td>\n",
              "      <td>-0.278238</td>\n",
              "      <td>-0.211311</td>\n",
              "      <td>0.007989</td>\n",
              "      <td>-0.258817</td>\n",
              "    </tr>\n",
              "    <tr>\n",
              "      <th>Unspecified blood glucose measurement</th>\n",
              "      <td>-0.261514</td>\n",
              "      <td>-0.278238</td>\n",
              "      <td>1.000000</td>\n",
              "      <td>-0.215172</td>\n",
              "      <td>0.102645</td>\n",
              "      <td>0.205549</td>\n",
              "    </tr>\n",
              "    <tr>\n",
              "      <th>Pre-breakfast blood glucose measurement</th>\n",
              "      <td>0.453617</td>\n",
              "      <td>-0.211311</td>\n",
              "      <td>-0.215172</td>\n",
              "      <td>1.000000</td>\n",
              "      <td>-0.149203</td>\n",
              "      <td>0.005432</td>\n",
              "    </tr>\n",
              "    <tr>\n",
              "      <th>Pre-lunch blood glucose measurement</th>\n",
              "      <td>-0.427991</td>\n",
              "      <td>0.007989</td>\n",
              "      <td>0.102645</td>\n",
              "      <td>-0.149203</td>\n",
              "      <td>1.000000</td>\n",
              "      <td>-0.306416</td>\n",
              "    </tr>\n",
              "    <tr>\n",
              "      <th>Pre-supper blood glucose measurement</th>\n",
              "      <td>0.188753</td>\n",
              "      <td>-0.258817</td>\n",
              "      <td>0.205549</td>\n",
              "      <td>0.005432</td>\n",
              "      <td>-0.306416</td>\n",
              "      <td>1.000000</td>\n",
              "    </tr>\n",
              "  </tbody>\n",
              "</table>\n",
              "</div>\n",
              "      <button class=\"colab-df-convert\" onclick=\"convertToInteractive('df-f903d1a3-a224-470f-a33a-81fa54a507e9')\"\n",
              "              title=\"Convert this dataframe to an interactive table.\"\n",
              "              style=\"display:none;\">\n",
              "        \n",
              "  <svg xmlns=\"http://www.w3.org/2000/svg\" height=\"24px\"viewBox=\"0 0 24 24\"\n",
              "       width=\"24px\">\n",
              "    <path d=\"M0 0h24v24H0V0z\" fill=\"none\"/>\n",
              "    <path d=\"M18.56 5.44l.94 2.06.94-2.06 2.06-.94-2.06-.94-.94-2.06-.94 2.06-2.06.94zm-11 1L8.5 8.5l.94-2.06 2.06-.94-2.06-.94L8.5 2.5l-.94 2.06-2.06.94zm10 10l.94 2.06.94-2.06 2.06-.94-2.06-.94-.94-2.06-.94 2.06-2.06.94z\"/><path d=\"M17.41 7.96l-1.37-1.37c-.4-.4-.92-.59-1.43-.59-.52 0-1.04.2-1.43.59L10.3 9.45l-7.72 7.72c-.78.78-.78 2.05 0 2.83L4 21.41c.39.39.9.59 1.41.59.51 0 1.02-.2 1.41-.59l7.78-7.78 2.81-2.81c.8-.78.8-2.07 0-2.86zM5.41 20L4 18.59l7.72-7.72 1.47 1.35L5.41 20z\"/>\n",
              "  </svg>\n",
              "      </button>\n",
              "      \n",
              "  <style>\n",
              "    .colab-df-container {\n",
              "      display:flex;\n",
              "      flex-wrap:wrap;\n",
              "      gap: 12px;\n",
              "    }\n",
              "\n",
              "    .colab-df-convert {\n",
              "      background-color: #E8F0FE;\n",
              "      border: none;\n",
              "      border-radius: 50%;\n",
              "      cursor: pointer;\n",
              "      display: none;\n",
              "      fill: #1967D2;\n",
              "      height: 32px;\n",
              "      padding: 0 0 0 0;\n",
              "      width: 32px;\n",
              "    }\n",
              "\n",
              "    .colab-df-convert:hover {\n",
              "      background-color: #E2EBFA;\n",
              "      box-shadow: 0px 1px 2px rgba(60, 64, 67, 0.3), 0px 1px 3px 1px rgba(60, 64, 67, 0.15);\n",
              "      fill: #174EA6;\n",
              "    }\n",
              "\n",
              "    [theme=dark] .colab-df-convert {\n",
              "      background-color: #3B4455;\n",
              "      fill: #D2E3FC;\n",
              "    }\n",
              "\n",
              "    [theme=dark] .colab-df-convert:hover {\n",
              "      background-color: #434B5C;\n",
              "      box-shadow: 0px 1px 3px 1px rgba(0, 0, 0, 0.15);\n",
              "      filter: drop-shadow(0px 1px 2px rgba(0, 0, 0, 0.3));\n",
              "      fill: #FFFFFF;\n",
              "    }\n",
              "  </style>\n",
              "\n",
              "      <script>\n",
              "        const buttonEl =\n",
              "          document.querySelector('#df-f903d1a3-a224-470f-a33a-81fa54a507e9 button.colab-df-convert');\n",
              "        buttonEl.style.display =\n",
              "          google.colab.kernel.accessAllowed ? 'block' : 'none';\n",
              "\n",
              "        async function convertToInteractive(key) {\n",
              "          const element = document.querySelector('#df-f903d1a3-a224-470f-a33a-81fa54a507e9');\n",
              "          const dataTable =\n",
              "            await google.colab.kernel.invokeFunction('convertToInteractive',\n",
              "                                                     [key], {});\n",
              "          if (!dataTable) return;\n",
              "\n",
              "          const docLinkHtml = 'Like what you see? Visit the ' +\n",
              "            '<a target=\"_blank\" href=https://colab.research.google.com/notebooks/data_table.ipynb>data table notebook</a>'\n",
              "            + ' to learn more about interactive tables.';\n",
              "          element.innerHTML = '';\n",
              "          dataTable['output_type'] = 'display_data';\n",
              "          await google.colab.output.renderOutput(dataTable, element);\n",
              "          const docLink = document.createElement('div');\n",
              "          docLink.innerHTML = docLinkHtml;\n",
              "          element.appendChild(docLink);\n",
              "        }\n",
              "      </script>\n",
              "    </div>\n",
              "  </div>\n",
              "  "
            ]
          },
          "metadata": {},
          "execution_count": 98
        }
      ]
    },
    {
      "cell_type": "code",
      "source": [
        "sb.heatmap(sp.corr(), cmap='coolwarm',annot=True)"
      ],
      "metadata": {
        "colab": {
          "base_uri": "https://localhost:8080/",
          "height": 488
        },
        "id": "ng_KhS0dwu-3",
        "outputId": "b7417c96-20d5-442f-e93c-c9e83c4a9831"
      },
      "execution_count": 99,
      "outputs": [
        {
          "output_type": "execute_result",
          "data": {
            "text/plain": [
              "<matplotlib.axes._subplots.AxesSubplot at 0x7f81a037a210>"
            ]
          },
          "metadata": {},
          "execution_count": 99
        },
        {
          "output_type": "display_data",
          "data": {
            "text/plain": [
              "<Figure size 432x288 with 2 Axes>"
            ],
            "image/png": "[encoded data removed]"
          },
          "metadata": {
            "needs_background": "light"
          }
        }
      ]
    },
    {
      "cell_type": "code",
      "source": [
        "plt.scatter(sp['Pre-breakfast blood glucose measurement'], sp['Unspecified blood glucose measurement'],color='green')\n",
        "plt.show()"
      ],
      "metadata": {
        "colab": {
          "base_uri": "https://localhost:8080/",
          "height": 265
        },
        "id": "abYYe4UaxIOt",
        "outputId": "e27143ce-a5d5-4065-bd2a-08bc8cdd686b"
      },
      "execution_count": 100,
      "outputs": [
        {
          "output_type": "display_data",
          "data": {
            "text/plain": [
              "<Figure size 432x288 with 1 Axes>"
            ],
            "image/png": "[encoded data removed]"
          },
          "metadata": {
            "needs_background": "light"
          }
        }
      ]
    },
    {
      "cell_type": "code",
      "source": [
        "x=sp['Pre-breakfast blood glucose measurement']\n",
        "y=sp['Unspecified blood glucose measurement']"
      ],
      "metadata": {
        "id": "8xly74RzxcDy"
      },
      "execution_count": 101,
      "outputs": []
    },
    {
      "cell_type": "code",
      "source": [
        "n=len(x)\n",
        "sxy,sx2=0,0\n",
        "sx,sy=0,0\n",
        "for i in range(0,n):\n",
        "  sx+=x[i]\n",
        "  sy+=y[i]\n",
        "  m=x[i]*y[i]\n",
        "  sxy+=m\n",
        "  sx2+=(x[i]*x[i])\n",
        "up=(n*sxy)-(sx*sy)\n",
        "dn=(n*sx2)-(sx*sx)\n",
        "slope=up/dn\n",
        "intercept=(sy/n)-(slope*(sx/n))\n",
        "print(round(slope,3))\n",
        "print(round(intercept,3))\n",
        "def fun(x):\n",
        "  equ=(slope*x)+(intercept)\n",
        "  return equ\n",
        "print(\"Equation : \",round(slope,3) ,\"* x +\",round(intercept,3))\n",
        "print(fun(100))"
      ],
      "metadata": {
        "colab": {
          "base_uri": "https://localhost:8080/"
        },
        "id": "-zF73Lfyxg6C",
        "outputId": "767cadda-933b-4107-cbbb-54ec525da94b"
      },
      "execution_count": 102,
      "outputs": [
        {
          "output_type": "stream",
          "name": "stdout",
          "text": [
            "-0.346\n",
            "276.105\n",
            "Equation :  -0.346 * x + 276.105\n",
            "241.49491909181575\n"
          ]
        }
      ]
    },
    {
      "cell_type": "code",
      "source": [
        "plt.scatter(x, y,color='green')\n",
        "def myfunc(x):\n",
        "  return slope * x + intercept\n",
        "new = list(map(myfunc, x))\n",
        "plt.plot(x,new)\n",
        "plt.show()"
      ],
      "metadata": {
        "colab": {
          "base_uri": "https://localhost:8080/",
          "height": 265
        },
        "id": "R1JXOtA02g4d",
        "outputId": "2ddbbdf6-4b43-43be-a4fe-ae73942820fb"
      },
      "execution_count": 103,
      "outputs": [
        {
          "output_type": "display_data",
          "data": {
            "text/plain": [
              "<Figure size 432x288 with 1 Axes>"
            ],
            "image/png": "[encoded data removed]"
          },
          "metadata": {
            "needs_background": "light"
          }
        }
      ]
    }
  ]
}